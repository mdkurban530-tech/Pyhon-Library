{
 "cells": [
  {
   "cell_type": "markdown",
   "id": "d7182f3b-8d24-472a-a245-5819f748f242",
   "metadata": {},
   "source": [
    "# For Loop"
   ]
  },
  {
   "cell_type": "code",
   "execution_count": 1,
   "id": "b0c11a53-a736-457f-bd13-63ff79ea2548",
   "metadata": {},
   "outputs": [
    {
     "name": "stdout",
     "output_type": "stream",
     "text": [
      "K\n",
      "u\n",
      "r\n",
      "b\n",
      "a\n",
      "n\n"
     ]
    }
   ],
   "source": [
    "for item in 'Kurban':\n",
    " print(item)\n"
   ]
  },
  {
   "cell_type": "code",
   "execution_count": 2,
   "id": "f367c458-fff9-493e-a3ff-c5f11f27da0a",
   "metadata": {},
   "outputs": [
    {
     "name": "stdout",
     "output_type": "stream",
     "text": [
      "1\n",
      "1\n",
      "1\n",
      "2\n",
      "2\n",
      "2\n",
      "3\n",
      "3\n",
      "3\n",
      "4\n",
      "4\n",
      "4\n",
      "5\n",
      "5\n",
      "5\n",
      "Hi!\n"
     ]
    }
   ],
   "source": [
    "for item in [1,2,3,4,5]:\n",
    " print(item)\n",
    " print(item)\n",
    " print(item)\n",
    "print('Hi!')    "
   ]
  },
  {
   "cell_type": "code",
   "execution_count": 3,
   "id": "683da181-68eb-43fc-a682-d815ed3aff9c",
   "metadata": {},
   "outputs": [
    {
     "name": "stdout",
     "output_type": "stream",
     "text": [
      "1\n",
      "1\n",
      "1\n",
      "2\n",
      "2\n",
      "2\n",
      "3\n",
      "3\n",
      "3\n",
      "4\n",
      "4\n",
      "4\n",
      "5\n",
      "5\n",
      "5\n",
      "5\n"
     ]
    }
   ],
   "source": [
    "for item in [1,2,3,4,5]:\n",
    " print(item)\n",
    " print(item)\n",
    " print(item)\n",
    "print(item)    # Unindented Print (After Loop Completes) here At this point, item retains the last value it had in the loop, which is 5"
   ]
  },
  {
   "cell_type": "code",
   "execution_count": 4,
   "id": "6e36bc69-297b-4adf-8055-7a7eafb0d5cd",
   "metadata": {},
   "outputs": [
    {
     "name": "stdout",
     "output_type": "stream",
     "text": [
      "12345\n",
      "12345\n",
      "12345\n",
      "12345\n"
     ]
    }
   ],
   "source": [
    "for item in [12345]:\n",
    " print(item)\n",
    " print(item)\n",
    " print(item)\n",
    "print(item)    # Unindented Print (After Loop Completes) here At this point, item retains the complete value"
   ]
  },
  {
   "cell_type": "code",
   "execution_count": 5,
   "id": "deed7762-e8ee-4c11-a01e-d38538d6bbe0",
   "metadata": {},
   "outputs": [
    {
     "name": "stdout",
     "output_type": "stream",
     "text": [
      "1 a\n",
      "1 b\n",
      "1 c\n",
      "2 a\n",
      "2 b\n",
      "2 c\n",
      "3 a\n",
      "3 b\n",
      "3 c\n",
      "4 a\n",
      "4 b\n",
      "4 c\n",
      "5 a\n",
      "5 b\n",
      "5 c\n"
     ]
    }
   ],
   "source": [
    "for item in (1,2,3,4,5):\n",
    " for X in ['a','b','c']:\n",
    "   print(item,X)"
   ]
  },
  {
   "cell_type": "code",
   "execution_count": 6,
   "id": "a4ad1529-184a-49cf-b475-2378935c85fc",
   "metadata": {},
   "outputs": [
    {
     "name": "stdout",
     "output_type": "stream",
     "text": [
      "name\n",
      "age\n",
      "Can_code\n"
     ]
    }
   ],
   "source": [
    "# Iterable\n",
    "user={\n",
    "    'name':'Kurban',\n",
    "    'age':30,\n",
    "    'Can_code':True\n",
    "    }\n",
    "for item in user:\n",
    " print(item)"
   ]
  },
  {
   "cell_type": "code",
   "execution_count": 7,
   "id": "ad027ae0-4dba-48d4-b03c-571b21604609",
   "metadata": {},
   "outputs": [
    {
     "name": "stdout",
     "output_type": "stream",
     "text": [
      "name\n",
      "age\n",
      "Can_code\n"
     ]
    }
   ],
   "source": [
    "# Iterable   >>  .function()\n",
    "user={\n",
    "    'name':'Kurban',\n",
    "    'age':30,\n",
    "    'Can_code':True\n",
    "    }\n",
    "for item in user.keys():\n",
    " print(item)"
   ]
  },
  {
   "cell_type": "code",
   "execution_count": 8,
   "id": "a934926c-f21e-4c00-a7ad-dc1acb5179cd",
   "metadata": {},
   "outputs": [
    {
     "name": "stdout",
     "output_type": "stream",
     "text": [
      "Kurban\n",
      "30\n",
      "True\n"
     ]
    }
   ],
   "source": [
    "# Iterable   >>  .function()\n",
    "user={\n",
    "    'name':'Kurban',\n",
    "    'age':30,\n",
    "    'Can_code':True\n",
    "    }\n",
    "for item in user.values():\n",
    " print(item)"
   ]
  },
  {
   "cell_type": "code",
   "execution_count": 9,
   "id": "9890b365-8440-4ae9-98ce-17fdb101d6ba",
   "metadata": {},
   "outputs": [
    {
     "name": "stdout",
     "output_type": "stream",
     "text": [
      "('name', 'Kurban')\n",
      "('age', 30)\n",
      "('Can_code', True)\n"
     ]
    }
   ],
   "source": [
    "# Iterable   >>  .function()\n",
    "user={\n",
    "    'name':'Kurban',\n",
    "    'age':30,\n",
    "    'Can_code':True\n",
    "    }\n",
    "for item in user.items():   # remember that .items() is a function here\n",
    " print(item)"
   ]
  },
  {
   "cell_type": "code",
   "execution_count": 10,
   "id": "7ef36927-bea9-4c76-81c1-cb34937a661a",
   "metadata": {},
   "outputs": [
    {
     "name": "stdout",
     "output_type": "stream",
     "text": [
      "name Kurban\n",
      "age 30\n",
      "Can_code True\n"
     ]
    }
   ],
   "source": [
    "# Iterable   >>  .function()\n",
    "user={\n",
    "    'name':'Kurban',\n",
    "    'age':30,\n",
    "    'Can_code':True\n",
    "    }\n",
    "for key,value in user.items():\n",
    " print(key,value)"
   ]
  },
  {
   "cell_type": "code",
   "execution_count": 11,
   "id": "d9680f87-cfa2-4d5b-bbb7-8c0090f6a883",
   "metadata": {},
   "outputs": [
    {
     "ename": "TypeError",
     "evalue": "'int' object is not iterable",
     "output_type": "error",
     "traceback": [
      "\u001b[1;31m---------------------------------------------------------------------------\u001b[0m",
      "\u001b[1;31mTypeError\u001b[0m                                 Traceback (most recent call last)",
      "Cell \u001b[1;32mIn[11], line 1\u001b[0m\n\u001b[1;32m----> 1\u001b[0m \u001b[38;5;28;43;01mfor\u001b[39;49;00m\u001b[43m \u001b[49m\u001b[43mitem\u001b[49m\u001b[43m \u001b[49m\u001b[38;5;129;43;01min\u001b[39;49;00m\u001b[43m \u001b[49m\u001b[38;5;241;43m50\u001b[39;49m\u001b[43m:\u001b[49m\n\u001b[0;32m      2\u001b[0m \u001b[43m    \u001b[49m\u001b[38;5;28;43mprint\u001b[39;49m\u001b[43m(\u001b[49m\u001b[43mitem\u001b[49m\u001b[43m)\u001b[49m\n",
      "\u001b[1;31mTypeError\u001b[0m: 'int' object is not iterable"
     ]
    }
   ],
   "source": [
    "for item in 50:\n",
    "    print(item)"
   ]
  },
  {
   "cell_type": "code",
   "execution_count": 12,
   "id": "a098dac4-f241-487c-8787-957f65ce1b47",
   "metadata": {},
   "outputs": [
    {
     "name": "stdout",
     "output_type": "stream",
     "text": [
      "1\n",
      "3\n",
      "6\n",
      "10\n",
      "15\n",
      "21\n",
      "28\n",
      "36\n",
      "45\n",
      "55\n"
     ]
    }
   ],
   "source": [
    "# Counter \n",
    "my_list=[1,2,3,4,5,6,7,8,9,10]\n",
    "counter=0\n",
    "for item in my_list:\n",
    "  counter=counter+item\n",
    "  print(counter)  # here we are getting running total because of the iteration of for loop"
   ]
  },
  {
   "cell_type": "code",
   "execution_count": 13,
   "id": "38c1c584-41b3-45d8-b01f-16454ab42df2",
   "metadata": {},
   "outputs": [
    {
     "name": "stdout",
     "output_type": "stream",
     "text": [
      "55\n"
     ]
    }
   ],
   "source": [
    "# Counter \n",
    "my_list=[1,2,3,4,5,6,7,8,9,10]\n",
    "counter=0\n",
    "for item in my_list:\n",
    "  counter=counter+item\n",
    "print(counter)  # here we are getting the total of the last number which is 55 as print happened outside the for loop"
   ]
  },
  {
   "cell_type": "code",
   "execution_count": 14,
   "id": "fbbce861-3c0e-4279-b646-49c362d2fad0",
   "metadata": {},
   "outputs": [
    {
     "name": "stdout",
     "output_type": "stream",
     "text": [
      "0\n",
      "1\n",
      "2\n",
      "3\n",
      "4\n",
      "5\n",
      "6\n",
      "7\n",
      "8\n",
      "9\n"
     ]
    }
   ],
   "source": [
    "# Range \n",
    "for number in range(0,10):\n",
    " print(number)"
   ]
  },
  {
   "cell_type": "code",
   "execution_count": 15,
   "id": "39758f4a-140c-480e-9b9c-0b3e42d302f4",
   "metadata": {},
   "outputs": [
    {
     "name": "stdout",
     "output_type": "stream",
     "text": [
      "Email Gmail List\n",
      "Email Gmail List\n",
      "Email Gmail List\n",
      "Email Gmail List\n",
      "Email Gmail List\n",
      "Email Gmail List\n",
      "Email Gmail List\n",
      "Email Gmail List\n",
      "Email Gmail List\n",
      "Email Gmail List\n"
     ]
    }
   ],
   "source": [
    "# Range \n",
    "for number in range(0,10):\n",
    "    print('Email Gmail List')"
   ]
  },
  {
   "cell_type": "code",
   "execution_count": 16,
   "id": "cfdd6359-45b5-46de-9749-a72197a00df4",
   "metadata": {},
   "outputs": [
    {
     "name": "stdout",
     "output_type": "stream",
     "text": [
      "0\n",
      "1\n",
      "2\n",
      "3\n",
      "4\n",
      "5\n",
      "6\n",
      "7\n",
      "8\n",
      "9\n"
     ]
    }
   ],
   "source": [
    "for _ in range(0,10): # we don't need variable\n",
    "  print(_)"
   ]
  },
  {
   "cell_type": "code",
   "execution_count": 17,
   "id": "2cdfe9ec-d86f-4338-a5bb-ed059d075ff3",
   "metadata": {},
   "outputs": [
    {
     "name": "stdout",
     "output_type": "stream",
     "text": [
      "Email Gmail List\n",
      "Email Gmail List\n",
      "Email Gmail List\n",
      "Email Gmail List\n",
      "Email Gmail List\n",
      "Email Gmail List\n",
      "Email Gmail List\n",
      "Email Gmail List\n",
      "Email Gmail List\n",
      "Email Gmail List\n"
     ]
    }
   ],
   "source": [
    "for _ in range(0,10):\n",
    " print('Email Gmail List')"
   ]
  },
  {
   "cell_type": "code",
   "execution_count": 18,
   "id": "c593fa42-35fc-4f6e-8ad3-f052539f83b1",
   "metadata": {},
   "outputs": [
    {
     "name": "stdout",
     "output_type": "stream",
     "text": [
      "0\n",
      "2\n",
      "4\n",
      "6\n",
      "8\n"
     ]
    }
   ],
   "source": [
    "for _ in range(0,10,2):  # here 2 is the step over\n",
    " print(_)"
   ]
  },
  {
   "cell_type": "code",
   "execution_count": 19,
   "id": "e780473a-6615-412f-bcab-ccca2d46abff",
   "metadata": {},
   "outputs": [
    {
     "name": "stdout",
     "output_type": "stream",
     "text": [
      "10\n",
      "9\n",
      "8\n",
      "7\n",
      "6\n",
      "5\n",
      "4\n",
      "3\n",
      "2\n",
      "1\n"
     ]
    }
   ],
   "source": [
    "for _ in range(10,0,-1):\n",
    " print(_)"
   ]
  },
  {
   "cell_type": "code",
   "execution_count": 20,
   "id": "9802990c-a45b-452d-b4ca-eff2df5eb7cf",
   "metadata": {},
   "outputs": [
    {
     "name": "stdout",
     "output_type": "stream",
     "text": [
      "[0, 1, 2, 3, 4, 5, 6, 7, 8, 9]\n",
      "[0, 1, 2, 3, 4, 5, 6, 7, 8, 9]\n"
     ]
    }
   ],
   "source": [
    "# Make a list of specified range \n",
    "for _ in range(2):\n",
    " print(list(range(10)))"
   ]
  },
  {
   "cell_type": "code",
   "execution_count": 21,
   "id": "c2fb9cd9-7949-436c-ab17-09751ff0373c",
   "metadata": {},
   "outputs": [
    {
     "name": "stdout",
     "output_type": "stream",
     "text": [
      "0 1\n",
      "1 2\n",
      "2 3\n",
      "3 4\n",
      "4 5\n"
     ]
    }
   ],
   "source": [
    "   # Enumerate \n",
    "for i,_ in enumerate ({1,2,3,4,5}):  # here i is the index \n",
    " print(i,_)"
   ]
  },
  {
   "cell_type": "code",
   "execution_count": 22,
   "id": "fc2d109a-f736-4793-b798-6e779e30741d",
   "metadata": {},
   "outputs": [
    {
     "name": "stdout",
     "output_type": "stream",
     "text": [
      "50 50\n",
      "index of 50 is : 50\n"
     ]
    }
   ],
   "source": [
    "for i, char in enumerate(range(100)): \n",
    "    #print(i,char)  #to check all the index\n",
    "    if char==50:\n",
    "     print(i,char)\n",
    "     print(f'index of 50 is : {i}')   "
   ]
  }
 ],
 "metadata": {
  "kernelspec": {
   "display_name": "Python 3 (ipykernel)",
   "language": "python",
   "name": "python3"
  },
  "language_info": {
   "codemirror_mode": {
    "name": "ipython",
    "version": 3
   },
   "file_extension": ".py",
   "mimetype": "text/x-python",
   "name": "python",
   "nbconvert_exporter": "python",
   "pygments_lexer": "ipython3",
   "version": "3.12.4"
  }
 },
 "nbformat": 4,
 "nbformat_minor": 5
}
