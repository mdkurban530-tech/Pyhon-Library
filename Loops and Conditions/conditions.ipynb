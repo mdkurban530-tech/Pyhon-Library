{
 "cells": [
  {
   "cell_type": "code",
   "execution_count": 1,
   "metadata": {},
   "outputs": [
    {
     "name": "stdout",
     "output_type": "stream",
     "text": [
      "you are not of age\n"
     ]
    }
   ],
   "source": [
    "is_old=False\n",
    "is_licenced=True\n",
    "if is_old:\n",
    "    print('You are old enough to drive')\n",
    "else:\n",
    "    print('you are not of age')"
   ]
  },
  {
   "cell_type": "code",
   "execution_count": 2,
   "metadata": {},
   "outputs": [
    {
     "name": "stdout",
     "output_type": "stream",
     "text": [
      "You are old enough to drive\n"
     ]
    }
   ],
   "source": [
    "is_old=True\n",
    "is_licenced=True\n",
    "if is_old:\n",
    "    print('You are old enough to drive')\n",
    "else:\n",
    "    print('you are not of age')"
   ]
  },
  {
   "cell_type": "code",
   "execution_count": 3,
   "metadata": {},
   "outputs": [
    {
     "name": "stdout",
     "output_type": "stream",
     "text": [
      "you can drive\n"
     ]
    }
   ],
   "source": [
    "is_old=False\n",
    "is_licenced=True\n",
    "if is_old:\n",
    "     print('You are old enough to drive')\n",
    "elif is_licenced:\n",
    "    print('you can drive')\n",
    "else:\n",
    "    print('you are not of age')"
   ]
  },
  {
   "cell_type": "code",
   "execution_count": 4,
   "metadata": {},
   "outputs": [
    {
     "name": "stdout",
     "output_type": "stream",
     "text": [
      "you are not of age and also not having license\n"
     ]
    }
   ],
   "source": [
    "is_old=False\n",
    "is_licenced=False\n",
    "if is_old:\n",
    "     print('You are old enough to drive')\n",
    "elif is_licenced:\n",
    "    print('you can drive')\n",
    "else:\n",
    "    print('you are not of age and also not having license')"
   ]
  },
  {
   "cell_type": "code",
   "execution_count": 5,
   "metadata": {},
   "outputs": [
    {
     "name": "stdout",
     "output_type": "stream",
     "text": [
      "you are either not of age or not having license\n"
     ]
    }
   ],
   "source": [
    "is_old=False\n",
    "is_licenced=True\n",
    "if is_old and is_licenced:\n",
    "     print('You are old enough to drive')\n",
    "else:\n",
    "    print('you are either not of age or not having license')"
   ]
  },
  {
   "cell_type": "code",
   "execution_count": 6,
   "metadata": {},
   "outputs": [
    {
     "name": "stdout",
     "output_type": "stream",
     "text": [
      "You are old enough to drive\n"
     ]
    }
   ],
   "source": [
    "is_old=True\n",
    "is_licenced=True\n",
    "if is_old and is_licenced:\n",
    "     print('You are old enough to drive')\n",
    "else:\n",
    "    print('you are either not of age or not having license')"
   ]
  },
  {
   "cell_type": "code",
   "execution_count": 7,
   "metadata": {},
   "outputs": [
    {
     "name": "stdout",
     "output_type": "stream",
     "text": [
      "You are old enough to drive\n"
     ]
    }
   ],
   "source": [
    "# Indentation checking 1 (because of indentation[print('see this line is not coming')])\n",
    "is_old=True\n",
    "is_licenced=True\n",
    "if is_old and is_licenced:\n",
    "     print('You are old enough to drive')\n",
    "else:\n",
    "    print('you are either not of age or not having license')\n",
    "    print('see this line is not coming')"
   ]
  },
  {
   "cell_type": "code",
   "execution_count": 8,
   "metadata": {},
   "outputs": [
    {
     "name": "stdout",
     "output_type": "stream",
     "text": [
      "You are old enough to drive\n",
      "see this line is coming\n"
     ]
    }
   ],
   "source": [
    "# Indentation checking 2 (because of indentation[print('see this line is coming')])\n",
    "is_old=True\n",
    "is_licenced=True\n",
    "if is_old and is_licenced:\n",
    "     print('You are old enough to drive')\n",
    "else:\n",
    "    print('you are either not of age or not having license')\n",
    "print('see this line is coming')"
   ]
  },
  {
   "cell_type": "code",
   "execution_count": 9,
   "metadata": {},
   "outputs": [
    {
     "name": "stdout",
     "output_type": "stream",
     "text": [
      "You are old enough to drive\n"
     ]
    }
   ],
   "source": [
    "# 1. here we can see how the variable converted to boolean True and false\n",
    "is_old='Hello'\n",
    "is_licenced=5\n",
    "if is_old and is_licenced:\n",
    "     print('You are old enough to drive')\n",
    "else:\n",
    "    print('you are either not of age or not having license')\n"
   ]
  },
  {
   "cell_type": "code",
   "execution_count": 10,
   "metadata": {},
   "outputs": [
    {
     "name": "stdout",
     "output_type": "stream",
     "text": [
      "True\n",
      "True\n",
      "You are old enough to drive\n"
     ]
    }
   ],
   "source": [
    "# 2. here we can see how the variable converted to boolean True and false\n",
    "is_old=bool('Hello')\n",
    "is_licenced=bool(5)\n",
    "print(bool('Hello'))\n",
    "print(bool(5))\n",
    "if is_old and is_licenced:\n",
    "     print('You are old enough to drive')\n",
    "else:\n",
    "    print('you are either not of age or not having license')\n"
   ]
  },
  {
   "cell_type": "code",
   "execution_count": 11,
   "metadata": {},
   "outputs": [
    {
     "name": "stdout",
     "output_type": "stream",
     "text": [
      "False\n",
      "False\n",
      "You are old enough to drive\n"
     ]
    }
   ],
   "source": [
    "# 3. here we can see how the variable converted to boolean True and false\n",
    "is_old=bool('Hello')\n",
    "is_licenced=bool(5)\n",
    "print(bool(''))\n",
    "print(bool())\n",
    "if is_old and is_licenced:\n",
    "     print('You are old enough to drive')\n",
    "else:\n",
    "    print('you are either not of age or not having license')\n"
   ]
  },
  {
   "cell_type": "code",
   "execution_count": 18,
   "metadata": {},
   "outputs": [
    {
     "name": "stdout",
     "output_type": "stream",
     "text": [
      "message allowed\n"
     ]
    }
   ],
   "source": [
    "# Ternary operator\n",
    "# condition_true if_condition else condition_false\n",
    "is_friend=True\n",
    "can_message='message allowed' if is_friend else 'message not allowed'\n",
    "print(can_message)"
   ]
  },
  {
   "cell_type": "code",
   "execution_count": 20,
   "metadata": {},
   "outputs": [
    {
     "name": "stdout",
     "output_type": "stream",
     "text": [
      "message not allowed\n"
     ]
    }
   ],
   "source": [
    "is_friend=False\n",
    "can_message='message allowed' if is_friend else  'message not allowed'\n",
    "print(can_message)"
   ]
  },
  {
   "cell_type": "code",
   "execution_count": 28,
   "metadata": {},
   "outputs": [
    {
     "name": "stdout",
     "output_type": "stream",
     "text": [
      "Best friend forever\n"
     ]
    }
   ],
   "source": [
    "# Short Circuiting using \"OR\"\n",
    "is_friend=False\n",
    "is_user=True\n",
    "if is_friend or is_user: \n",
    "    print('Best friend forever')   "
   ]
  },
  {
   "cell_type": "code",
   "execution_count": 29,
   "metadata": {},
   "outputs": [
    {
     "name": "stdout",
     "output_type": "stream",
     "text": [
      "just to check\n"
     ]
    }
   ],
   "source": [
    "# without Short Circuiting using \"and\"\n",
    "is_friend=False\n",
    "is_user=True\n",
    "if is_friend and is_user: \n",
    "    print('Best friend forever')\n",
    "print('just to check')    "
   ]
  },
  {
   "cell_type": "code",
   "execution_count": 31,
   "metadata": {},
   "outputs": [
    {
     "name": "stdout",
     "output_type": "stream",
     "text": [
      "False\n"
     ]
    }
   ],
   "source": [
    "# Logical operator\n",
    "print(3==4)"
   ]
  },
  {
   "cell_type": "code",
   "execution_count": 32,
   "metadata": {},
   "outputs": [
    {
     "name": "stdout",
     "output_type": "stream",
     "text": [
      "True\n"
     ]
    }
   ],
   "source": [
    "print(5>4)"
   ]
  },
  {
   "cell_type": "code",
   "execution_count": 48,
   "metadata": {},
   "outputs": [
    {
     "name": "stdout",
     "output_type": "stream",
     "text": [
      "You are the master magician\n"
     ]
    }
   ],
   "source": [
    "is_magician=True\n",
    "is_expert= True\n",
    "# Check if magician and expert: 'You are the master magician'\n",
    "if is_magician and is_expert: \n",
    "   print(\"You are the master magician\")   # to print the we need both is_magician and is_magic should be True\n",
    "# Check if a magician but not an expert: 'At least you're getting there!'\n",
    "elif is_magician and not is_expert:       # to print the we need both is_magician and is_magic should be True\n",
    "   print(\"At least you're getting there!\")\n",
    "# Check if you're not a magician: 'You need magic powers'\n",
    "elif not is_magician:                    # to print this is_magic should be True\n",
    "   print(\"You need magic powers\")\n",
    "\n"
   ]
  },
  {
   "cell_type": "code",
   "execution_count": 49,
   "metadata": {},
   "outputs": [
    {
     "name": "stdout",
     "output_type": "stream",
     "text": [
      "At least you're getting there!\n"
     ]
    }
   ],
   "source": [
    "is_magician=True\n",
    "is_expert= False\n",
    "# Check if magician and expert: 'You are the master magician'\n",
    "if is_magician and is_expert: \n",
    "   print(\"You are the master magician\")   # to print the we need both is_magician and is_magic should be True\n",
    "# Check if a magician but not an expert: 'At least you're getting there!'\n",
    "elif is_magician and not is_expert:       # to print the we need both is_magician and is_magic should be True\n",
    "   print(\"At least you're getting there!\")\n",
    "# Check if you're not a magician: 'You need magic powers'\n",
    "elif not is_magician:                    # to print this is_magic should be True\n",
    "   print(\"You need magic powers\")\n"
   ]
  },
  {
   "cell_type": "code",
   "execution_count": 53,
   "metadata": {},
   "outputs": [
    {
     "name": "stdout",
     "output_type": "stream",
     "text": [
      "You need magic powers\n"
     ]
    }
   ],
   "source": [
    "is_magician=False\n",
    "is_expert= False\n",
    "# Check if magician and expert: 'You are the master magician'\n",
    "if is_magician and is_expert: \n",
    "   print(\"You are the master magician\")   # to print the we need both is_magician and is_magic should be True\n",
    "# Check if a magician but not an expert: 'At least you're getting there!'\n",
    "elif is_magician and not is_expert:       # to print the we need both is_magician and is_magic should be True\n",
    "   print(\"At least you're getting there!\")\n",
    "# Check if you're not a magician: 'You need magic powers'\n",
    "elif not is_magician:                    # to print this is_magic should be True regardless of is_magic True or False\n",
    "   print(\"You need magic powers\")\n"
   ]
  },
  {
   "cell_type": "code",
   "execution_count": 65,
   "metadata": {},
   "outputs": [
    {
     "name": "stdout",
     "output_type": "stream",
     "text": [
      "True\n",
      "False\n",
      "False\n",
      "True\n",
      "False\n",
      "True\n",
      "True\n"
     ]
    }
   ],
   "source": [
    "# Checking the values on both sides\n",
    "print(True==1) \n",
    "print(''==1)\n",
    "print([]==1)\n",
    "print(10==10.0)\n",
    "print('10'==10)  # gives False because string is within specified location\n",
    "print([]==[])\n",
    "print([1,2,3]==[1,2,3])"
   ]
  },
  {
   "cell_type": "code",
   "execution_count": 66,
   "metadata": {},
   "outputs": [
    {
     "name": "stdout",
     "output_type": "stream",
     "text": [
      "False\n",
      "True\n",
      "False\n",
      "False\n",
      "False\n",
      "True\n",
      "False\n",
      "False\n",
      "False\n",
      "True\n"
     ]
    },
    {
     "name": "stderr",
     "output_type": "stream",
     "text": [
      "<>:2: SyntaxWarning: \"is\" with 'int' literal. Did you mean \"==\"?\n",
      "<>:4: SyntaxWarning: \"is\" with 'str' literal. Did you mean \"==\"?\n",
      "<>:5: SyntaxWarning: \"is\" with 'int' literal. Did you mean \"==\"?\n",
      "<>:6: SyntaxWarning: \"is\" with 'int' literal. Did you mean \"==\"?\n",
      "<>:7: SyntaxWarning: \"is\" with 'float' literal. Did you mean \"==\"?\n",
      "<>:2: SyntaxWarning: \"is\" with 'int' literal. Did you mean \"==\"?\n",
      "<>:4: SyntaxWarning: \"is\" with 'str' literal. Did you mean \"==\"?\n",
      "<>:5: SyntaxWarning: \"is\" with 'int' literal. Did you mean \"==\"?\n",
      "<>:6: SyntaxWarning: \"is\" with 'int' literal. Did you mean \"==\"?\n",
      "<>:7: SyntaxWarning: \"is\" with 'float' literal. Did you mean \"==\"?\n",
      "C:\\Users\\mdkur\\AppData\\Local\\Temp\\ipykernel_14468\\2921240493.py:2: SyntaxWarning: \"is\" with 'int' literal. Did you mean \"==\"?\n",
      "  print(True is 1)\n",
      "C:\\Users\\mdkur\\AppData\\Local\\Temp\\ipykernel_14468\\2921240493.py:4: SyntaxWarning: \"is\" with 'str' literal. Did you mean \"==\"?\n",
      "  print('' is 1)\n",
      "C:\\Users\\mdkur\\AppData\\Local\\Temp\\ipykernel_14468\\2921240493.py:5: SyntaxWarning: \"is\" with 'int' literal. Did you mean \"==\"?\n",
      "  print([] is 1)\n",
      "C:\\Users\\mdkur\\AppData\\Local\\Temp\\ipykernel_14468\\2921240493.py:6: SyntaxWarning: \"is\" with 'int' literal. Did you mean \"==\"?\n",
      "  print(10 is 10.0)\n",
      "C:\\Users\\mdkur\\AppData\\Local\\Temp\\ipykernel_14468\\2921240493.py:7: SyntaxWarning: \"is\" with 'float' literal. Did you mean \"==\"?\n",
      "  print(10.0 is 10.0)\n"
     ]
    }
   ],
   "source": [
    "# checking the values within memory\n",
    "print(True is 1) \n",
    "print(True is True)\n",
    "print('' is 1)\n",
    "print([] is 1)\n",
    "print(10 is 10.0)\n",
    "print(10.0 is 10.0)\n",
    "print([]is [])\n",
    "print([1,2,3] is [1,2,3])\n",
    "a=[1,2,3];b=[1,2,3]\n",
    "print(a is b) # gives False because they have different memory location\n",
    "print(a==b) # gives true as it checks value on both sides"
   ]
  },
  {
   "cell_type": "code",
   "execution_count": null,
   "metadata": {},
   "outputs": [],
   "source": []
  }
 ],
 "metadata": {
  "kernelspec": {
   "display_name": "Python 3 (ipykernel)",
   "language": "python",
   "name": "python3"
  },
  "language_info": {
   "codemirror_mode": {
    "name": "ipython",
    "version": 3
   },
   "file_extension": ".py",
   "mimetype": "text/x-python",
   "name": "python",
   "nbconvert_exporter": "python",
   "pygments_lexer": "ipython3",
   "version": "3.12.4"
  }
 },
 "nbformat": 4,
 "nbformat_minor": 4
}
