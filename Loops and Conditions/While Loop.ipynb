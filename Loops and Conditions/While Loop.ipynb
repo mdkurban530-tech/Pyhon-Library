{
 "cells": [
  {
   "cell_type": "markdown",
   "id": "f5787838-2319-485d-a1fb-2edc5a337abc",
   "metadata": {},
   "source": [
    "# While Loop"
   ]
  },
  {
   "cell_type": "code",
   "execution_count": 1,
   "id": "cd5e4abc-45a9-4c46-bbb6-3953c4fe7356",
   "metadata": {},
   "outputs": [
    {
     "name": "stdout",
     "output_type": "stream",
     "text": [
      "0\n"
     ]
    }
   ],
   "source": [
    "# while Loop \n",
    "i=0\n",
    "while i<50:\n",
    "   print(i)\n",
    "   break"
   ]
  },
  {
   "cell_type": "code",
   "execution_count": 2,
   "id": "78b02563-b07b-4b19-8ecd-187500231c6a",
   "metadata": {},
   "outputs": [
    {
     "name": "stdout",
     "output_type": "stream",
     "text": [
      "0\n",
      "1\n",
      "2\n",
      "3\n",
      "4\n",
      "5\n",
      "6\n",
      "7\n",
      "8\n",
      "9\n",
      "10\n",
      "11\n",
      "12\n",
      "13\n",
      "14\n",
      "15\n",
      "16\n",
      "17\n",
      "18\n",
      "19\n",
      "20\n",
      "21\n",
      "22\n",
      "23\n",
      "24\n",
      "25\n",
      "26\n",
      "27\n",
      "28\n",
      "29\n",
      "30\n",
      "31\n",
      "32\n",
      "33\n",
      "34\n",
      "35\n",
      "36\n",
      "37\n",
      "38\n",
      "39\n",
      "40\n",
      "41\n",
      "42\n",
      "43\n",
      "44\n",
      "45\n",
      "46\n",
      "47\n",
      "48\n",
      "49\n",
      "Done with all the work!\n"
     ]
    }
   ],
   "source": [
    "# while Loop \n",
    "i=0\n",
    "while i<50:\n",
    "   print(i)\n",
    "   i=i+1\n",
    "else: \n",
    "    print('Done with all the work!')"
   ]
  },
  {
   "cell_type": "code",
   "execution_count": 3,
   "id": "f96051f2-95e4-49ee-9045-300ba1753e98",
   "metadata": {},
   "outputs": [
    {
     "name": "stdout",
     "output_type": "stream",
     "text": [
      "1\n",
      "2\n",
      "3\n",
      "1\n",
      "2\n",
      "3\n"
     ]
    }
   ],
   "source": [
    "my_list=[1,2,3] \n",
    "for item in my_list:\n",
    " print(item)\n",
    "i=0\n",
    "while i<len(my_list):\n",
    " print(my_list[i])\n",
    " i=i+1"
   ]
  },
  {
   "cell_type": "code",
   "execution_count": 7,
   "id": "64446ff3-eca5-47ec-b940-1a504f5258f5",
   "metadata": {},
   "outputs": [
    {
     "name": "stdin",
     "output_type": "stream",
     "text": [
      "say something:  hi\n"
     ]
    }
   ],
   "source": [
    "while True: \n",
    "    input('say something: ')\n",
    "    break"
   ]
  },
  {
   "cell_type": "code",
   "execution_count": 8,
   "id": "adc607de-9c40-4681-9c2c-10020cbde606",
   "metadata": {},
   "outputs": [
    {
     "name": "stdin",
     "output_type": "stream",
     "text": [
      "say something:  hi\n",
      "say something:  hello\n",
      "say something:  bye\n"
     ]
    }
   ],
   "source": [
    "while True:\n",
    "  response=input('say something: ')\n",
    "  if response=='bye':\n",
    "    break "
   ]
  },
  {
   "cell_type": "code",
   "execution_count": null,
   "id": "22fe3e35-d0c8-4507-b8f6-b2f5fc8a1ead",
   "metadata": {},
   "outputs": [],
   "source": []
  }
 ],
 "metadata": {
  "kernelspec": {
   "display_name": "Python 3 (ipykernel)",
   "language": "python",
   "name": "python3"
  },
  "language_info": {
   "codemirror_mode": {
    "name": "ipython",
    "version": 3
   },
   "file_extension": ".py",
   "mimetype": "text/x-python",
   "name": "python",
   "nbconvert_exporter": "python",
   "pygments_lexer": "ipython3",
   "version": "3.12.4"
  }
 },
 "nbformat": 4,
 "nbformat_minor": 5
}
